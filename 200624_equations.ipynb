{
 "cells": [
  {
   "cell_type": "markdown",
   "metadata": {},
   "source": [
    "\n",
    "$H=H^{8\\times8}=H^{8\\times8}_{ex}+H^{8\\times8}_{Zee}+H^{8\\times8}_{zfs}=H^{2\\times2}_{eR}\\otimes H^{2\\times2}_{e1}\\otimes H^{2\\times2}_{e2}$\n",
    "\n",
    "$H^{8\\times8}_{ex} = H^{8\\times8}_{ex, PP} + H^{8\\times8}_{ex, 1R} = -2 \\Big(J_{PP} \\sum_{i=x,y,z}{I \\otimes S_i \\otimes S_i  }+J_{R} \\sum_{i=x,y,z}{ S_i \\otimes S_i \\otimes I}\\Big)$\n",
    "\n",
    "$H^{8\\times8}_{Zee} = H^{8\\times8}_{Zee, PP} + H^{8\\times8}_{Zee, R}=g\\mu_B\\Big(\\sum_{i=x,y,z}{B_i \\big( S_i \\otimes I \\otimes I + I\\otimes S_i \\otimes I + I\\otimes I \\otimes S_i \\big)} \\Big)$\n",
    "\n",
    "$H^{8\\times8}_{zfs} = I^{2\\times2} \\otimes H^{4\\times4}_{zfs} = I \\otimes \\Big( D (S^2_z - \\frac{2}{3}I) + \\frac{D}{10} (S^2_x - S^2_y)\\Big)$ \n",
    "\n",
    "$\\mathbf{\\hat{S}}_{Pauli} =\\frac{1}{2}(\\sigma_x,\\sigma_y,\\sigma_z)$\n",
    "\n",
    "\n",
    "\n",
    "$\\vert s\\rangle=\\frac{1}{\\sqrt{2}}(\\vert\\uparrow\\downarrow\\rangle-\\vert\\downarrow\\uparrow\\rangle)$ \n",
    "\n",
    "$\\rho(0)=\\vert \\alpha s\\rangle\\langle \\alpha s\\vert+\\vert \\beta s\\rangle\\langle \\beta s\\vert$\n",
    "\n",
    "\n",
    "$\\rho^{12\\times12}=\\rho^{8\\times8}_{dynamics}\\oplus\\rho^{4\\times4,diag}_{shelves}=\\big(\\rho^{2\\times2}_{eR}\\otimes\\rho^{2\\times2}_{e1}\\otimes\\rho^{2\\times2}_{e2}\\big)\\oplus\\rho^{4\\times4,diag}_{shelves}$\n",
    "\n",
    "$\\partial_t\\rho=-\\frac{i}{\\hbar}[\\hat{H},\\rho]+k\\sum^8_{i=1}{\\Big(\\hat{P}_i\\rho \\hat{P}^\\dagger_i}-\\frac{1}{2}(\\hat{P}^\\dagger_i \\hat{P}_i\\rho+\\rho \\hat{P}^\\dagger_i \\hat{P}_i)\\Big)$\n",
    "\n",
    "$\\partial_t \\hat{\\rho}=-\\hat{\\hat{L}}\\hat{\\rho}=-\\frac{i}{\\hbar}[\\hat{\\hat{H}},\\hat{\\rho}]-\\{\\hat{\\hat{K}},\\hat{\\rho}\\} - k_R(\\hat{\\hat{P}}_S\\hat{\\rho}\\hat{\\hat{P}}_T+\\hat{\\hat{P}}_T\\hat{\\rho}\\hat{\\hat{P}}_S) = -\\frac{i}{\\hbar}[\\hat{\\hat{H}},\\hat{\\rho}]-\\Big\\{\\frac{k_S}{2}\\hat{\\hat{P}}_S+\\frac{k_T}{2}\\hat{\\hat{P}}_T,\\hat{\\rho}\\Big\\} - k_R(\\hat{\\hat{P}}_S\\hat{\\rho}\\hat{\\hat{P}}_T+\\hat{\\hat{P}}_T\\hat{\\rho}\\hat{\\hat{P}}_S) $\n"
   ]
  },
  {
   "cell_type": "markdown",
   "metadata": {},
   "source": [
    "\n",
    "\n",
    "\n"
   ]
  },
  {
   "cell_type": "code",
   "execution_count": null,
   "metadata": {},
   "outputs": [],
   "source": []
  }
 ],
 "metadata": {
  "kernelspec": {
   "display_name": "Python 3",
   "language": "python",
   "name": "python3"
  },
  "language_info": {
   "codemirror_mode": {
    "name": "ipython",
    "version": 3
   },
   "file_extension": ".py",
   "mimetype": "text/x-python",
   "name": "python",
   "nbconvert_exporter": "python",
   "pygments_lexer": "ipython3",
   "version": "3.6.5"
  }
 },
 "nbformat": 4,
 "nbformat_minor": 4
}
