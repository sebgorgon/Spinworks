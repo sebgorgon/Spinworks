{
 "cells": [
  {
   "cell_type": "markdown",
   "metadata": {},
   "source": [
    "\n",
    "$H=H^{8x8}=H^{8x8}_{ex}+H^{8x8}_{Zee}+H^{8x8}_{zfs}=H^{2x2}_{eR}\\otimes H^{2x2}_{e1}\\otimes H^{2x2}_{e2}$\n",
    "\n",
    "$H^{8x8}_{ex} = H^{8x8}_{ex, PP} + H^{8x8}_{ex, 1R} = -2 \\Big(J_{PP} \\sum_{i=x,y,z}{I \\otimes S_i \\otimes S_i  }+J_{R} \\sum_{i=x,y,z}{ S_i \\otimes S_i \\otimes I}\\Big)$\n",
    "\n",
    "$H^{8x8}_{Zee} = H^{8x8}_{Zee, PP} + H^{8x8}_{Zee, R}=g\\mu_B\\Big(\\sum_{i=x,y,z}{B_i \\big( S_i \\otimes I \\otimes I + I\\otimes S_i \\otimes I + I\\otimes I \\otimes S_i \\big)} \\Big)$\n",
    "\n",
    "$H^{8x8}_{zfs} = I^{2x2} \\otimes H^{4x4}_{zfs} = I^{2x2} \\otimes D (S^2_z - \\frac{2}{3}I) + \\frac{D}{10} (S^2_x - S^2_y)$ \n",
    "\n",
    "$\\mathbf{\\hat{S}}_{Pauli} =(\\sigma_x,\\sigma_y,\\sigma_z)$\n",
    "\n",
    "\n",
    "\n",
    "$\\vert s\\rangle=\\frac{1}{\\sqrt{2}}(\\vert\\uparrow\\downarrow\\rangle-\\vert\\downarrow\\uparrow\\rangle)$ \n",
    "\n",
    "$\\rho(0)=\\vert \\alpha s\\rangle\\langle \\alpha s\\vert+\\vert \\beta s\\rangle\\langle \\beta s\\vert$\n",
    "\n",
    "\n",
    "$\\rho^{12x12}=\\rho^{8x8}_{dynamics}\\oplus\\rho^{4x4,diag}_{shelves}=\\big(\\rho^{2x2}_{eR}\\otimes\\rho^{2x2}_{e1}\\otimes\\rho^{2x2}_{e2}\\big)\\oplus\\rho^{4x4,diag}_{shelves}$\n",
    "\n",
    "$\\partial_t\\rho=-\\frac{i}{\\hbar}[H,\\rho]+k\\sum^8_{i=1}{\\Big(\\hat{P}_i\\rho \\hat{P}^\\dagger_i}-\\frac{1}{2}(\\hat{P}^\\dagger_i \\hat{P}_i\\rho+\\rho \\hat{P}^\\dagger_i \\hat{P}_i)\\Big)$\n",
    "\n",
    "\n",
    "$\\partial_t \\rho=-\\{\\hat{\\hat{K}},\\rho\\} - k_R(\\hat{\\hat{P}}_S\\rho\\hat{\\hat{P}}_T+\\hat{\\hat{P}}_T\\rho\\hat{\\hat{P}}_S)$\n",
    "\n",
    "$\\hat{\\hat{K}}=\\frac{k_S}{2}\\hat{\\hat{P}}_S+\\frac{k_T}{2}\\hat{\\hat{P}}_T$"
   ]
  },
  {
   "cell_type": "markdown",
   "metadata": {},
   "source": [
    "\n",
    "\n",
    "\n"
   ]
  },
  {
   "cell_type": "code",
   "execution_count": null,
   "metadata": {},
   "outputs": [],
   "source": []
  }
 ],
 "metadata": {
  "kernelspec": {
   "display_name": "Python 3",
   "language": "python",
   "name": "python3"
  },
  "language_info": {
   "codemirror_mode": {
    "name": "ipython",
    "version": 3
   },
   "file_extension": ".py",
   "mimetype": "text/x-python",
   "name": "python",
   "nbconvert_exporter": "python",
   "pygments_lexer": "ipython3",
   "version": "3.6.5"
  }
 },
 "nbformat": 4,
 "nbformat_minor": 4
}
