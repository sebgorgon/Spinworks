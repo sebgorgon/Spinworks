{
 "cells": [
  {
   "cell_type": "code",
   "execution_count": 1,
   "metadata": {},
   "outputs": [],
   "source": [
    "from qutip import *\n",
    "import numpy as np\n",
    "from scipy.linalg import block_diag\n",
    "\n",
    "def eigenvectmatr(M):\n",
    "    a=np.empty((M.shape[0], 0))\n",
    "    for i in range(M.shape[0]):\n",
    "        a = np.append(a,np.array(M.eigenstates()[1][i])) \n",
    "    return Qobj(a.reshape((M.shape[0],M.shape[0]))).dag()"
   ]
  },
  {
   "cell_type": "markdown",
   "metadata": {},
   "source": [
    "Take 3 particles with $s=\\frac{1}{2}$.\n",
    "\n",
    "## Transformation A: $\\langle \\alpha\\alpha\\alpha\\vert T_+\\alpha\\rangle$\n",
    "\n",
    "(\"Partly\") Coupled: $\\vert T_+ \\alpha \\rangle, \\vert T_0 \\alpha \\rangle, \\vert S \\alpha \\rangle,\\vert T_- \\alpha \\rangle, \\vert T_+ \\beta \\rangle, \\vert T_0 \\beta \\rangle, \\vert S \\beta \\rangle,\\vert T_- \\beta \\rangle$\n",
    "\n",
    "Uncoupled: $\\langle \\alpha \\alpha \\alpha \\vert, \\langle \\alpha \\beta \\alpha \\vert,  \\langle \\beta \\alpha \\alpha \\vert, \\langle \\beta \\beta \\alpha \\vert, \\langle \\alpha \\alpha \\beta \\vert,\\langle \\alpha \\beta \\beta \\vert,\\langle \\beta \\alpha \\beta \\vert,\\langle \\beta \\beta \\beta \\vert$\n",
    "\n",
    "Transformation matrix: $T_A$"
   ]
  },
  {
   "cell_type": "code",
   "execution_count": 2,
   "metadata": {},
   "outputs": [
    {
     "data": {
      "text/latex": [
       "Quantum object: dims = [[8], [8]], shape = (8, 8), type = oper, isherm = True\\begin{equation*}\\left(\\begin{array}{*{11}c}1.0 & 0.0 & 0.0 & 0.0 & 0.0 & 0.0 & 0.0 & 0.0\\\\0.0 & 0.707 & 0.707 & 0.0 & 0.0 & 0.0 & 0.0 & 0.0\\\\0.0 & 0.707 & -0.707 & 0.0 & 0.0 & 0.0 & 0.0 & 0.0\\\\0.0 & 0.0 & 0.0 & 1.0 & 0.0 & 0.0 & 0.0 & 0.0\\\\0.0 & 0.0 & 0.0 & 0.0 & 1.0 & 0.0 & 0.0 & 0.0\\\\0.0 & 0.0 & 0.0 & 0.0 & 0.0 & 0.707 & 0.707 & 0.0\\\\0.0 & 0.0 & 0.0 & 0.0 & 0.0 & 0.707 & -0.707 & 0.0\\\\0.0 & 0.0 & 0.0 & 0.0 & 0.0 & 0.0 & 0.0 & 1.0\\\\\\end{array}\\right)\\end{equation*}"
      ],
      "text/plain": [
       "Quantum object: dims = [[8], [8]], shape = (8, 8), type = oper, isherm = True\n",
       "Qobj data =\n",
       "[[ 1.          0.          0.          0.          0.          0.\n",
       "   0.          0.        ]\n",
       " [ 0.          0.70710678  0.70710678  0.          0.          0.\n",
       "   0.          0.        ]\n",
       " [ 0.          0.70710678 -0.70710678  0.          0.          0.\n",
       "   0.          0.        ]\n",
       " [ 0.          0.          0.          1.          0.          0.\n",
       "   0.          0.        ]\n",
       " [ 0.          0.          0.          0.          1.          0.\n",
       "   0.          0.        ]\n",
       " [ 0.          0.          0.          0.          0.          0.70710678\n",
       "   0.70710678  0.        ]\n",
       " [ 0.          0.          0.          0.          0.          0.70710678\n",
       "  -0.70710678  0.        ]\n",
       " [ 0.          0.          0.          0.          0.          0.\n",
       "   0.          1.        ]]"
      ]
     },
     "execution_count": 2,
     "metadata": {},
     "output_type": "execute_result"
    }
   ],
   "source": [
    "T_2x2 = [[1,0,0,0],[0,1/np.sqrt(2),1/np.sqrt(2),0],[0,1/np.sqrt(2),-1/np.sqrt(2),0],[0,0,0,1]]\n",
    "T_A = Qobj(block_diag(*([T_2x2] * 2)))\n",
    "T_A"
   ]
  },
  {
   "cell_type": "markdown",
   "metadata": {},
   "source": [
    "## Transformation B: $\\langle T_+\\alpha\\vert \\frac{3}{2},\\frac{3}{2}\\rangle$\n",
    "\n",
    "[Adapted from Binney & Cohen](https://arxiv.org/abs/quant-ph/0605180) \n",
    "\n",
    "$j_1=1$ and $j_2=\\frac{1}{2}$ \n",
    "\n",
    "$\\mathbf{3\\otimes2=4\\oplus2}$  , so need 6x6 matrix\n",
    "\n",
    "Total angular momentum: $j=\\{\\frac{3}{2},\\frac{1}{2} \\}$\n",
    "\n",
    "Coupled states: $\\vert j,m\\rangle \\quad$ \n",
    "\n",
    "Uncoupled states: basis of \"partly\" coupled states with 2 spins coupled and 1 uncoupled \n",
    "\n",
    "Angular momentum coupled sequentially: first took $\\vec{j}_p+\\vec{j}_q=\\vec{j}_{pq}$ and now taking $\\vec{j}_{pq}+\\vec{j}_r=\\vec{j}_{pqr}$\n",
    "\n",
    "Start with stretched state $\\vert\\frac{3}{2},\\frac{3}{2}\\rangle$ and apply $J_-$ sequentially to get 4 states with $j=\\frac{3}{2}$\n",
    "\n",
    "$\\vert\\frac{3}{2},\\frac{3}{2}\\rangle = \\vert\\alpha\\rangle\\vert 1,1\\rangle = \\vert T_+ \\alpha\\rangle$ \n",
    "\n",
    "$\\vert\\frac{3}{2},\\frac{1}{2}\\rangle = \\sqrt{\\frac{1}{3}}\\vert \\beta\\rangle\\vert 1,1\\rangle + \\sqrt{\\frac{2}{3}}\\vert \\alpha\\rangle\\vert 1,0\\rangle  = \\sqrt{\\frac{1}{3}}\\vert T_+ \\beta\\rangle+\\sqrt{\\frac{2}{3}}\\vert T_0 \\alpha\\rangle$ \n",
    "\n",
    "$\\vert\\frac{3}{2},-\\frac{1}{2}\\rangle = \\sqrt{\\frac{2}{3}}\\vert \\beta\\rangle\\vert 1,0\\rangle + \\sqrt{\\frac{1}{3}}\\vert \\alpha\\rangle\\vert 1,-1\\rangle  = \\sqrt{\\frac{2}{3}}\\vert T_0 \\beta\\rangle+\\sqrt{\\frac{1}{3}}\\vert T_- \\alpha\\rangle$ \n",
    "\n",
    "$\\vert\\frac{3}{2},-\\frac{3}{2}\\rangle = \\vert \\beta\\rangle\\vert 1,-1\\rangle = \\vert T_- \\beta\\rangle$ \n",
    "\n",
    "To get $j=\\frac{1}{2}$ states construct orthogonal linear combinations to states with the same $m$:\n",
    "\n",
    "$\\vert\\frac{1}{2},\\frac{1}{2}\\rangle = \\sqrt{\\frac{2}{3}}\\vert \\beta\\rangle\\vert 1,1\\rangle - \\sqrt{\\frac{1}{3}}\\vert \\alpha\\rangle\\vert 1,0\\rangle  = \\sqrt{\\frac{2}{3}}\\vert T_+ \\beta\\rangle-\\sqrt{\\frac{1}{3}}\\vert T_0 \\alpha\\rangle$\n",
    "\n",
    "$\\vert\\frac{1}{2},-\\frac{1}{2}\\rangle = \\sqrt{\\frac{1}{3}}\\vert \\beta\\rangle\\vert 1,0\\rangle - \\sqrt{\\frac{2}{3}}\\vert \\alpha\\rangle\\vert 1,-1\\rangle  = \\sqrt{\\frac{1}{3}}\\vert T_0 \\beta\\rangle-\\sqrt{\\frac{2}{3}}\\vert T_- \\alpha\\rangle$ \n",
    "\n",
    "\n",
    "Works when only 3 uncoupled two-spin states possible: $\\vert T_+\\rangle=(1, 0, 0)$; $\\vert T_0\\rangle=(0, 1, 0)$ and $\\vert T_-\\rangle=(0, 0, 1)$\n",
    "\n",
    "Need \"coupling\" of $j=0$ to $j=\\frac{1}{2}$: see below, taking those states as is: $j_a+0=j_a$\n",
    "\n",
    "Construct 6x6 matrix T_B6:"
   ]
  },
  {
   "cell_type": "code",
   "execution_count": 3,
   "metadata": {},
   "outputs": [
    {
     "data": {
      "text/latex": [
       "Quantum object: dims = [[6], [6]], shape = (6, 6), type = oper, isherm = False\\begin{equation*}\\left(\\begin{array}{*{11}c}1.0 & 0.0 & 0.0 & 0.0 & 0.0 & 0.0\\\\0.0 & 0.577 & 0.0 & 0.0 & 0.816 & 0.0\\\\0.0 & 0.816 & 0.0 & 0.0 & -0.577 & 0.0\\\\0.0 & 0.0 & 0.816 & 0.0 & 0.0 & 0.577\\\\0.0 & 0.0 & 0.577 & 0.0 & 0.0 & -0.816\\\\0.0 & 0.0 & 0.0 & 1.0 & 0.0 & 0.0\\\\\\end{array}\\right)\\end{equation*}"
      ],
      "text/plain": [
       "Quantum object: dims = [[6], [6]], shape = (6, 6), type = oper, isherm = False\n",
       "Qobj data =\n",
       "[[ 1.          0.          0.          0.          0.          0.        ]\n",
       " [ 0.          0.57735027  0.          0.          0.81649658  0.        ]\n",
       " [ 0.          0.81649658  0.          0.         -0.57735027  0.        ]\n",
       " [ 0.          0.          0.81649658  0.          0.          0.57735027]\n",
       " [ 0.          0.          0.57735027  0.          0.         -0.81649658]\n",
       " [ 0.          0.          0.          1.          0.          0.        ]]"
      ]
     },
     "execution_count": 3,
     "metadata": {},
     "output_type": "execute_result"
    }
   ],
   "source": [
    "T_B6 = Qobj([[1,0,0,0,0,0],[0,np.sqrt(1/3),0,0,np.sqrt(2/3),0],[0,np.sqrt(2/3),0,0,-np.sqrt(1/3),0],[0,0,np.sqrt(2/3),0,0,np.sqrt(1/3)],[0,0,np.sqrt(1/3),0,0,-np.sqrt(2/3)],[0,0,0,1,0,0]])\n",
    "T_B6"
   ]
  },
  {
   "cell_type": "markdown",
   "metadata": {},
   "source": [
    "## Transformation C: $\\langle \\alpha\\alpha\\alpha\\vert \\frac{3}{2},\\frac{3}{2}\\rangle$\n",
    "\n",
    "After [Paris](https://public.lanl.gov/mparis/qmp.pdf) with significant corrections, and [Magnasco](https://www.sciencedirect.com/science/article/pii/B9780444626479000099?via%3Dihub)\n",
    "\n",
    "$N=3 \\;\\rightarrow\\; 2^N=8 \\;\\rightarrow\\; \\mathbf{4\\otimes2=4\\oplus2\\oplus2}$ , so need 8x8 matrix and get 1 quartet $j=\\frac{3}{2}$ and 2 doublets $j=\\frac{1}{2}$.\n",
    "\n",
    "$\\vert j, m; j_{12}\\rangle$:\n",
    "\n",
    "Again, construct first 4 from stretched state and lowering operator:\n",
    "\n",
    "$\\vert \\frac{3}{2}, +\\frac{3}{2};1\\rangle=\\vert\\alpha\\alpha\\alpha\\rangle$\n",
    "\n",
    "$\\vert \\frac{3}{2}, +\\frac{1}{2};1\\rangle=\\frac{1}{\\sqrt{3}}\\Big(\\vert\\alpha\\alpha\\beta\\rangle+\\vert\\alpha\\beta\\alpha\\rangle+\\vert\\beta\\alpha\\alpha\\rangle\\Big)$\n",
    "\n",
    "$\\vert \\frac{3}{2}, -\\frac{1}{2};1\\rangle=\\frac{1}{\\sqrt{3}}\\Big(\\vert\\alpha\\beta\\beta\\rangle+\\vert\\beta\\alpha\\beta\\rangle+\\vert\\beta\\beta\\alpha\\rangle\\Big)$\n",
    "\n",
    "$\\vert \\frac{3}{2}, -\\frac{3}{2};1\\rangle=\\vert\\beta\\beta\\beta\\rangle$\n",
    "\n",
    "Then 2 orthogonal / from Clebsh-Gordan:\n",
    "\n",
    "$\\vert \\frac{1}{2}, +\\frac{1}{2};1\\rangle= \\sqrt{\\frac{2}{3}}\\vert 1,+1\\rangle\\otimes\\vert\\beta\\rangle-\\sqrt{\\frac{1}{3}}\\vert 1,0\\rangle\\otimes\\vert\\alpha\\rangle=\\frac{1}{\\sqrt{6}}\\Big(2\\vert\\alpha\\alpha\\beta\\rangle - \\vert\\alpha\\beta\\alpha\\rangle - \\vert\\beta\\alpha\\alpha\\rangle     \\Big)$\n",
    "\n",
    "$\\vert \\frac{1}{2}, -\\frac{1}{2};1\\rangle= \\sqrt{\\frac{1}{3}}\\vert 1,0\\rangle\\otimes\\vert\\beta\\rangle-\\sqrt{\\frac{2}{3}}\\vert 1,-1\\rangle\\otimes\\vert\\alpha\\rangle=\\frac{1}{\\sqrt{6}}\\Big(\\vert\\alpha\\beta\\beta\\rangle + \\vert\\beta\\alpha\\beta\\rangle - 2\\vert\\beta\\beta\\alpha\\rangle     \\Big)$\n",
    "\n",
    "And 2 directly from $\\vert 0,0\\rangle$:\n",
    "\n",
    "$\\vert \\frac{1}{2}, +\\frac{1}{2};0\\rangle=\\vert 0,0\\rangle\\otimes\\vert\\alpha\\rangle=\\frac{1}{\\sqrt{2}}\\Big(\\vert\\alpha\\beta\\alpha\\rangle-\\vert\\beta\\alpha\\alpha\\rangle\\Big)$\n",
    "\n",
    "$\\vert \\frac{1}{2}, -\\frac{1}{2};0\\rangle=\\vert 0,0\\rangle\\otimes\\vert\\beta\\rangle=\\frac{1}{\\sqrt{2}}\\Big(\\vert\\alpha\\beta\\beta\\rangle-\\vert\\beta\\alpha\\beta\\rangle\\Big)$\n",
    "\n"
   ]
  },
  {
   "cell_type": "code",
   "execution_count": 4,
   "metadata": {},
   "outputs": [
    {
     "data": {
      "text/latex": [
       "Quantum object: dims = [[8], [8]], shape = (8, 8), type = oper, isherm = False\\begin{equation*}\\left(\\begin{array}{*{11}c}1.0 & 0.0 & 0.0 & 0.0 & 0.0 & 0.0 & 0.0 & 0.0\\\\0.0 & 0.577 & 0.0 & 0.0 & -0.408 & 0.0 & -0.707 & 0.0\\\\0.0 & 0.577 & 0.0 & 0.0 & -0.408 & 0.0 & 0.707 & 0.0\\\\0.0 & 0.0 & 0.577 & 0.0 & 0.0 & -0.816 & 0.0 & 0.0\\\\0.0 & 0.577 & 0.0 & 0.0 & 0.816 & 0.0 & 0.0 & 0.0\\\\0.0 & 0.0 & 0.577 & 0.0 & 0.0 & 0.408 & 0.0 & -0.707\\\\0.0 & 0.0 & 0.577 & 0.0 & 0.0 & 0.408 & 0.0 & 0.707\\\\0.0 & 0.0 & 0.0 & 1.0 & 0.0 & 0.0 & 0.0 & 0.0\\\\\\end{array}\\right)\\end{equation*}"
      ],
      "text/plain": [
       "Quantum object: dims = [[8], [8]], shape = (8, 8), type = oper, isherm = False\n",
       "Qobj data =\n",
       "[[ 1.          0.          0.          0.          0.          0.\n",
       "   0.          0.        ]\n",
       " [ 0.          0.57735027  0.          0.         -0.40824829  0.\n",
       "  -0.70710678  0.        ]\n",
       " [ 0.          0.57735027  0.          0.         -0.40824829  0.\n",
       "   0.70710678  0.        ]\n",
       " [ 0.          0.          0.57735027  0.          0.         -0.81649658\n",
       "   0.          0.        ]\n",
       " [ 0.          0.57735027  0.          0.          0.81649658  0.\n",
       "   0.          0.        ]\n",
       " [ 0.          0.          0.57735027  0.          0.          0.40824829\n",
       "   0.         -0.70710678]\n",
       " [ 0.          0.          0.57735027  0.          0.          0.40824829\n",
       "   0.          0.70710678]\n",
       " [ 0.          0.          0.          1.          0.          0.\n",
       "   0.          0.        ]]"
      ]
     },
     "execution_count": 4,
     "metadata": {},
     "output_type": "execute_result"
    }
   ],
   "source": [
    "T_C = np.matrix([[1,0,0,0,0,0,0,0],\n",
    "      [0,1/np.sqrt(3),0,0,-1/np.sqrt(6),0,-1/np.sqrt(2),0],\n",
    "      [0,1/np.sqrt(3),0,0,-1/np.sqrt(6),0,1/np.sqrt(2),0],\n",
    "      [0,0,1/np.sqrt(3),0,0,-2/np.sqrt(6),0,0],\n",
    "      [0,1/np.sqrt(3),0,0,2/np.sqrt(6),0,0,0],\n",
    "      [0,0,1/np.sqrt(3),0,0,1/np.sqrt(6),0,-1/np.sqrt(2)],\n",
    "      [0,0,1/np.sqrt(3),0,0,1/np.sqrt(6),0,1/np.sqrt(2)],\n",
    "      [0,0,0,1,0,0,0,0]])\n",
    "T_C = Qobj(T_C)\n",
    "T_C"
   ]
  },
  {
   "cell_type": "markdown",
   "metadata": {},
   "source": [
    "### To verify / find 2 missing states in Transformation B - take matrix products:\n",
    "\n",
    "###  $\\bbox[5px,border:2px solid red]{\\langle \\alpha\\alpha\\alpha\\vert T_+\\alpha\\rangle_A \\cdot \\langle T_+\\alpha\\vert \\frac{3}{2},\\frac{3}{2}\\rangle_B = \\langle \\alpha\\alpha\\alpha\\vert \\frac{3}{2},\\frac{3}{2}\\rangle_C}$\n",
    "\n",
    "$T_A T_B = T_C$\n",
    "\n",
    "$T_B = T^{-1}_A T_C$"
   ]
  },
  {
   "cell_type": "code",
   "execution_count": 5,
   "metadata": {},
   "outputs": [
    {
     "data": {
      "text/latex": [
       "Quantum object: dims = [[8], [8]], shape = (8, 8), type = oper, isherm = False\\begin{equation*}\\left(\\begin{array}{*{11}c}1.0 & 0.0 & 0.0 & 0.0 & 0.0 & 0.0 & 0.0 & 0.0\\\\0.0 & 0.816 & 0.0 & 0.0 & -0.577 & 0.0 & 0.0 & 0.0\\\\0.0 & 0.0 & 0.0 & 0.0 & 0.0 & 0.0 & -1.0 & 0.0\\\\0.0 & 0.0 & 0.577 & 0.0 & 0.0 & -0.816 & 0.0 & 0.0\\\\0.0 & 0.577 & 0.0 & 0.0 & 0.816 & 0.0 & 0.0 & 0.0\\\\0.0 & 0.0 & 0.816 & 0.0 & 0.0 & 0.577 & 0.0 & 0.0\\\\0.0 & 0.0 & 0.0 & 0.0 & 0.0 & 0.0 & 0.0 & -1.0\\\\0.0 & 0.0 & 0.0 & 1.0 & 0.0 & 0.0 & 0.0 & 0.0\\\\\\end{array}\\right)\\end{equation*}"
      ],
      "text/plain": [
       "Quantum object: dims = [[8], [8]], shape = (8, 8), type = oper, isherm = False\n",
       "Qobj data =\n",
       "[[ 1.          0.          0.          0.          0.          0.\n",
       "   0.          0.        ]\n",
       " [ 0.          0.81649658  0.          0.         -0.57735027  0.\n",
       "   0.          0.        ]\n",
       " [ 0.          0.          0.          0.          0.          0.\n",
       "  -1.          0.        ]\n",
       " [ 0.          0.          0.57735027  0.          0.         -0.81649658\n",
       "   0.          0.        ]\n",
       " [ 0.          0.57735027  0.          0.          0.81649658  0.\n",
       "   0.          0.        ]\n",
       " [ 0.          0.          0.81649658  0.          0.          0.57735027\n",
       "   0.          0.        ]\n",
       " [ 0.          0.          0.          0.          0.          0.\n",
       "   0.         -1.        ]\n",
       " [ 0.          0.          0.          1.          0.          0.\n",
       "   0.          0.        ]]"
      ]
     },
     "execution_count": 5,
     "metadata": {},
     "output_type": "execute_result"
    }
   ],
   "source": [
    "T_B = T_A.inv()*T_C\n",
    "T_B                      "
   ]
  },
  {
   "cell_type": "code",
   "execution_count": 6,
   "metadata": {},
   "outputs": [
    {
     "data": {
      "text/latex": [
       "Quantum object: dims = [[6], [6]], shape = (6, 6), type = oper, isherm = False\\begin{equation*}\\left(\\begin{array}{*{11}c}1.0 & 0.0 & 0.0 & 0.0 & 0.0 & 0.0\\\\0.0 & 0.577 & 0.0 & 0.0 & 0.816 & 0.0\\\\0.0 & 0.816 & 0.0 & 0.0 & -0.577 & 0.0\\\\0.0 & 0.0 & 0.816 & 0.0 & 0.0 & 0.577\\\\0.0 & 0.0 & 0.577 & 0.0 & 0.0 & -0.816\\\\0.0 & 0.0 & 0.0 & 1.0 & 0.0 & 0.0\\\\\\end{array}\\right)\\end{equation*}"
      ],
      "text/plain": [
       "Quantum object: dims = [[6], [6]], shape = (6, 6), type = oper, isherm = False\n",
       "Qobj data =\n",
       "[[ 1.          0.          0.          0.          0.          0.        ]\n",
       " [ 0.          0.57735027  0.          0.          0.81649658  0.        ]\n",
       " [ 0.          0.81649658  0.          0.         -0.57735027  0.        ]\n",
       " [ 0.          0.          0.81649658  0.          0.          0.57735027]\n",
       " [ 0.          0.          0.57735027  0.          0.         -0.81649658]\n",
       " [ 0.          0.          0.          1.          0.          0.        ]]"
      ]
     },
     "execution_count": 6,
     "metadata": {},
     "output_type": "execute_result"
    }
   ],
   "source": [
    "T_B6"
   ]
  },
  {
   "cell_type": "markdown",
   "metadata": {},
   "source": [
    "Therefore $\\vert \\frac{1}{2},\\frac{1}{2},0\\rangle=-\\vert S_0\\alpha\\rangle$ and $\\vert \\frac{1}{2},-\\frac{1}{2},0\\rangle=-\\vert S_0\\beta\\rangle$\n",
    "\n",
    "<span style=\"color:red\">TO DO:</span> Significance of minus sign? (normalisation gets rid of it...)"
   ]
  },
  {
   "cell_type": "markdown",
   "metadata": {},
   "source": [
    "---\n",
    "---\n",
    "\n",
    "# Transforming the Hamiltonian\n",
    "\n",
    "Consider system of three spin-1/2 particles made up of two electrons and a nuclear spin. \n",
    "\n",
    "The Hamiltonian for the hyperfine interaction between one electron spin and the nuclear spin:\n",
    "\n",
    "$\\mathbf{H} = \\mathbf{S_A S_C} = \\mathbf{S_{Ax} S_{Cx}} + \\mathbf{S_{Ay}S_{Cy}} + \\mathbf{S_{Az}S_{Cz}}$\n",
    "\n",
    "\n",
    "### $\\mathbf{H_c = T^\\dagger H T}$\n",
    "\n",
    "\n",
    "---\n",
    "\n",
    "### Uncoupled:"
   ]
  },
  {
   "cell_type": "code",
   "execution_count": 7,
   "metadata": {},
   "outputs": [
    {
     "name": "stdout",
     "output_type": "stream",
     "text": [
      "[-0.75 -0.75  0.25  0.25  0.25  0.25  0.25  0.25]\n"
     ]
    },
    {
     "data": {
      "text/latex": [
       "Quantum object: dims = [[2, 2, 2], [2, 2, 2]], shape = (8, 8), type = oper, isherm = True\\begin{equation*}\\left(\\begin{array}{*{11}c}0.250 & 0.0 & 0.0 & 0.0 & 0.0 & 0.0 & 0.0 & 0.0\\\\0.0 & -0.250 & 0.0 & 0.0 & 0.500 & 0.0 & 0.0 & 0.0\\\\0.0 & 0.0 & 0.250 & 0.0 & 0.0 & 0.0 & 0.0 & 0.0\\\\0.0 & 0.0 & 0.0 & -0.250 & 0.0 & 0.0 & 0.500 & 0.0\\\\0.0 & 0.500 & 0.0 & 0.0 & -0.250 & 0.0 & 0.0 & 0.0\\\\0.0 & 0.0 & 0.0 & 0.0 & 0.0 & 0.250 & 0.0 & 0.0\\\\0.0 & 0.0 & 0.0 & 0.500 & 0.0 & 0.0 & -0.250 & 0.0\\\\0.0 & 0.0 & 0.0 & 0.0 & 0.0 & 0.0 & 0.0 & 0.250\\\\\\end{array}\\right)\\end{equation*}"
      ],
      "text/plain": [
       "Quantum object: dims = [[2, 2, 2], [2, 2, 2]], shape = (8, 8), type = oper, isherm = True\n",
       "Qobj data =\n",
       "[[ 0.25  0.    0.    0.    0.    0.    0.    0.  ]\n",
       " [ 0.   -0.25  0.    0.    0.5   0.    0.    0.  ]\n",
       " [ 0.    0.    0.25  0.    0.    0.    0.    0.  ]\n",
       " [ 0.    0.    0.   -0.25  0.    0.    0.5   0.  ]\n",
       " [ 0.    0.5   0.    0.   -0.25  0.    0.    0.  ]\n",
       " [ 0.    0.    0.    0.    0.    0.25  0.    0.  ]\n",
       " [ 0.    0.    0.    0.5   0.    0.   -0.25  0.  ]\n",
       " [ 0.    0.    0.    0.    0.    0.    0.    0.25]]"
      ]
     },
     "execution_count": 7,
     "metadata": {},
     "output_type": "execute_result"
    }
   ],
   "source": [
    "idt = qeye(2)\n",
    "sax, sbx, scx = tensor(sigmax()/2,idt,idt), tensor(idt,sigmax()/2,idt),tensor(idt,idt,sigmax()/2)\n",
    "say, sby, scy = tensor(sigmay()/2,idt,idt), tensor(idt,sigmay()/2,idt),tensor(idt,idt,sigmay()/2)\n",
    "saz, sbz, scz = tensor(sigmaz()/2,idt,idt), tensor(idt,sigmaz()/2,idt),tensor(idt,idt,sigmaz()/2)\n",
    "\n",
    "H = (sax*scx + say*scy + saz*scz)\n",
    "print(H.eigenenergies())\n",
    "H"
   ]
  },
  {
   "cell_type": "code",
   "execution_count": 8,
   "metadata": {},
   "outputs": [
    {
     "data": {
      "text/latex": [
       "Quantum object: dims = [[8], [8]], shape = (8, 8), type = oper, isherm = False\\begin{equation*}\\left(\\begin{array}{*{11}c}0.0 & 0.0 & 0.0 & 1.0 & 0.0 & 0.0 & 0.0 & 0.0\\\\0.707 & 0.0 & -0.707 & 0.0 & 0.0 & 0.0 & 0.0 & 0.0\\\\0.0 & 0.0 & 0.0 & 0.0 & 0.0 & 0.0 & 1.0 & 0.0\\\\0.0 & 0.707 & 0.0 & 0.0 & -0.707 & 0.0 & 0.0 & 0.0\\\\-0.707 & 0.0 & -0.707 & 0.0 & 0.0 & 0.0 & 0.0 & 0.0\\\\0.0 & 0.0 & 0.0 & 0.0 & 0.0 & 1.0 & 0.0 & 0.0\\\\0.0 & -0.707 & 0.0 & 0.0 & -0.707 & 0.0 & 0.0 & 0.0\\\\0.0 & 0.0 & 0.0 & 0.0 & 0.0 & 0.0 & 0.0 & 1.0\\\\\\end{array}\\right)\\end{equation*}"
      ],
      "text/plain": [
       "Quantum object: dims = [[8], [8]], shape = (8, 8), type = oper, isherm = False\n",
       "Qobj data =\n",
       "[[ 0.          0.          0.          1.          0.          0.\n",
       "   0.          0.        ]\n",
       " [ 0.70710678  0.         -0.70710678  0.          0.          0.\n",
       "   0.          0.        ]\n",
       " [ 0.          0.          0.          0.          0.          0.\n",
       "   1.          0.        ]\n",
       " [ 0.          0.70710678  0.          0.         -0.70710678  0.\n",
       "   0.          0.        ]\n",
       " [-0.70710678  0.         -0.70710678  0.          0.          0.\n",
       "   0.          0.        ]\n",
       " [ 0.          0.          0.          0.          0.          1.\n",
       "   0.          0.        ]\n",
       " [ 0.         -0.70710678  0.          0.         -0.70710678  0.\n",
       "   0.          0.        ]\n",
       " [ 0.          0.          0.          0.          0.          0.\n",
       "   0.          1.        ]]"
      ]
     },
     "execution_count": 8,
     "metadata": {},
     "output_type": "execute_result"
    }
   ],
   "source": [
    "eigenvectmatr(H)"
   ]
  },
  {
   "cell_type": "markdown",
   "metadata": {},
   "source": [
    "### A: Transforms to parly coupled $\\vert T_+,\\alpha\\rangle$ representation"
   ]
  },
  {
   "cell_type": "code",
   "execution_count": 9,
   "metadata": {},
   "outputs": [
    {
     "name": "stdout",
     "output_type": "stream",
     "text": [
      "[-0.75 -0.75  0.25  0.25  0.25  0.25  0.25  0.25]\n"
     ]
    },
    {
     "data": {
      "text/latex": [
       "Quantum object: dims = [[2, 2, 2], [2, 2, 2]], shape = (8, 8), type = oper, isherm = True\\begin{equation*}\\left(\\begin{array}{*{11}c}0.250 & 0.0 & 0.0 & 0.0 & 0.0 & 0.0 & 0.0 & 0.0\\\\0.0 & 0.0 & -0.250 & 0.0 & 0.354 & 0.0 & 0.0 & 0.0\\\\0.0 & -0.250 & 0.0 & 0.0 & 0.354 & 0.0 & 0.0 & 0.0\\\\0.0 & 0.0 & 0.0 & -0.250 & 0.0 & 0.354 & -0.354 & 0.0\\\\0.0 & 0.354 & 0.354 & 0.0 & -0.250 & 0.0 & 0.0 & 0.0\\\\0.0 & 0.0 & 0.0 & 0.354 & 0.0 & 0.0 & 0.250 & 0.0\\\\0.0 & 0.0 & 0.0 & -0.354 & 0.0 & 0.250 & 0.0 & 0.0\\\\0.0 & 0.0 & 0.0 & 0.0 & 0.0 & 0.0 & 0.0 & 0.250\\\\\\end{array}\\right)\\end{equation*}"
      ],
      "text/plain": [
       "Quantum object: dims = [[2, 2, 2], [2, 2, 2]], shape = (8, 8), type = oper, isherm = True\n",
       "Qobj data =\n",
       "[[ 0.25        0.          0.          0.          0.          0.\n",
       "   0.          0.        ]\n",
       " [ 0.          0.         -0.25        0.          0.35355339  0.\n",
       "   0.          0.        ]\n",
       " [ 0.         -0.25        0.          0.          0.35355339  0.\n",
       "   0.          0.        ]\n",
       " [ 0.          0.          0.         -0.25        0.          0.35355339\n",
       "  -0.35355339  0.        ]\n",
       " [ 0.          0.35355339  0.35355339  0.         -0.25        0.\n",
       "   0.          0.        ]\n",
       " [ 0.          0.          0.          0.35355339  0.          0.\n",
       "   0.25        0.        ]\n",
       " [ 0.          0.          0.         -0.35355339  0.          0.25\n",
       "   0.          0.        ]\n",
       " [ 0.          0.          0.          0.          0.          0.\n",
       "   0.          0.25      ]]"
      ]
     },
     "execution_count": 9,
     "metadata": {},
     "output_type": "execute_result"
    }
   ],
   "source": [
    "H_A=H.transform(T_A)\n",
    "print(H_A.eigenenergies())\n",
    "H_A"
   ]
  },
  {
   "cell_type": "code",
   "execution_count": 10,
   "metadata": {},
   "outputs": [
    {
     "data": {
      "text/latex": [
       "Quantum object: dims = [[8], [8]], shape = (8, 8), type = oper, isherm = False\\begin{equation*}\\left(\\begin{array}{*{11}c}0.0 & 0.0 & 0.0 & 0.0 & 0.0 & 1.0 & 0.0 & 0.0\\\\0.0 & -0.500 & 0.866 & 0.0 & 0.0 & 0.0 & 0.0 & 0.0\\\\0.0 & -0.500 & -0.289 & -0.816 & 0.0 & 0.0 & 0.0 & 0.0\\\\-0.707 & 0.0 & 0.0 & 0.0 & 0.0 & 0.0 & 0.0 & -0.707\\\\0.0 & 0.707 & 0.408 & -0.577 & 0.0 & 0.0 & 0.0 & 0.0\\\\0.500 & 0.0 & 0.0 & 0.0 & 0.707 & 0.0 & 0.0 & -0.500\\\\-0.500 & 0.0 & 0.0 & 0.0 & 0.707 & 0.0 & 0.0 & 0.500\\\\0.0 & 0.0 & 0.0 & 0.0 & 0.0 & 0.0 & 1.0 & 0.0\\\\\\end{array}\\right)\\end{equation*}"
      ],
      "text/plain": [
       "Quantum object: dims = [[8], [8]], shape = (8, 8), type = oper, isherm = False\n",
       "Qobj data =\n",
       "[[ 0.          0.          0.          0.          0.          1.\n",
       "   0.          0.        ]\n",
       " [ 0.         -0.5         0.8660254   0.          0.          0.\n",
       "   0.          0.        ]\n",
       " [ 0.         -0.5        -0.28867513 -0.81649658  0.          0.\n",
       "   0.          0.        ]\n",
       " [-0.70710678  0.          0.          0.          0.          0.\n",
       "   0.         -0.70710678]\n",
       " [ 0.          0.70710678  0.40824829 -0.57735027  0.          0.\n",
       "   0.          0.        ]\n",
       " [ 0.5         0.          0.          0.          0.70710678  0.\n",
       "   0.         -0.5       ]\n",
       " [-0.5         0.          0.          0.          0.70710678  0.\n",
       "   0.          0.5       ]\n",
       " [ 0.          0.          0.          0.          0.          0.\n",
       "   1.          0.        ]]"
      ]
     },
     "execution_count": 10,
     "metadata": {},
     "output_type": "execute_result"
    }
   ],
   "source": [
    "eigenvectmatr(H_A)"
   ]
  },
  {
   "cell_type": "markdown",
   "metadata": {},
   "source": [
    "### C: Transforms to fully coupled $\\vert j,m\\rangle$ representation"
   ]
  },
  {
   "cell_type": "code",
   "execution_count": 11,
   "metadata": {},
   "outputs": [
    {
     "name": "stdout",
     "output_type": "stream",
     "text": [
      "[-0.75 -0.75  0.25  0.25  0.25  0.25  0.25  0.25]\n"
     ]
    },
    {
     "data": {
      "text/latex": [
       "Quantum object: dims = [[2, 2, 2], [2, 2, 2]], shape = (8, 8), type = oper, isherm = True\\begin{equation*}\\left(\\begin{array}{*{11}c}0.250 & 0.0 & 0.0 & 0.0 & 0.0 & 0.0 & 0.0 & 0.0\\\\0.0 & -0.486 & -0.236 & 0.0 & 0.118 & 0.0 & 0.0 & -0.354\\\\0.0 & -0.236 & -0.486 & 0.0 & 0.118 & 0.0 & 0.0 & 0.354\\\\0.0 & 0.0 & 0.0 & 0.250 & 0.0 & 0.0 & 0.0 & 0.0\\\\0.0 & 0.118 & 0.118 & 0.0 & 0.221 & 0.0 & 0.0 & 0.0\\\\0.0 & 0.0 & 0.0 & 0.0 & 0.0 & 0.250 & 0.0 & 0.0\\\\0.0 & 0.0 & 0.0 & 0.0 & 0.0 & 0.0 & 0.250 & 0.0\\\\0.0 & -0.354 & 0.354 & 0.0 & 0.0 & 0.0 & 0.0 & -0.250\\\\\\end{array}\\right)\\end{equation*}"
      ],
      "text/plain": [
       "Quantum object: dims = [[2, 2, 2], [2, 2, 2]], shape = (8, 8), type = oper, isherm = True\n",
       "Qobj data =\n",
       "[[ 0.25        0.          0.          0.          0.          0.\n",
       "   0.          0.        ]\n",
       " [ 0.         -0.48570226 -0.23570226  0.          0.11785113  0.\n",
       "   0.         -0.35355339]\n",
       " [ 0.         -0.23570226 -0.48570226  0.          0.11785113  0.\n",
       "   0.          0.35355339]\n",
       " [ 0.          0.          0.          0.25        0.          0.\n",
       "   0.          0.        ]\n",
       " [ 0.          0.11785113  0.11785113  0.          0.22140452  0.\n",
       "   0.          0.        ]\n",
       " [ 0.          0.          0.          0.          0.          0.25\n",
       "   0.          0.        ]\n",
       " [ 0.          0.          0.          0.          0.          0.\n",
       "   0.25        0.        ]\n",
       " [ 0.         -0.35355339  0.35355339  0.          0.          0.\n",
       "   0.         -0.25      ]]"
      ]
     },
     "execution_count": 11,
     "metadata": {},
     "output_type": "execute_result"
    }
   ],
   "source": [
    "H_C=H.transform(T_C)\n",
    "print(H_C.eigenenergies())\n",
    "H_C"
   ]
  },
  {
   "cell_type": "code",
   "execution_count": 12,
   "metadata": {},
   "outputs": [
    {
     "data": {
      "text/latex": [
       "Quantum object: dims = [[8], [8]], shape = (8, 8), type = oper, isherm = False\\begin{equation*}\\left(\\begin{array}{*{11}c}0.0 & 0.0 & 0.0 & 0.0 & 0.0 & 1.0 & 0.0 & 0.0\\\\0.858 & 0.0 & 0.514 & 0.0 & 0.0 & 0.0 & 0.0 & 0.0\\\\0.275 & -0.813 & -0.458 & 0.0 & 0.0 & 0.0 & -0.233 & 0.0\\\\0.0 & 0.0 & 0.0 & 0.0 & 0.0 & 0.0 & 0.0 & 1.0\\\\-0.137 & 0.099 & 0.229 & 0.0 & 0.0 & 0.0 & -0.959 & 0.0\\\\0.0 & 0.0 & 0.0 & 0.0 & 1.0 & 0.0 & 0.0 & 0.0\\\\0.0 & 0.0 & 0.0 & 1.0 & 0.0 & 0.0 & 0.0 & 0.0\\\\0.412 & 0.575 & -0.688 & 0.0 & 0.0 & 0.0 & -0.164 & 0.0\\\\\\end{array}\\right)\\end{equation*}"
      ],
      "text/plain": [
       "Quantum object: dims = [[8], [8]], shape = (8, 8), type = oper, isherm = False\n",
       "Qobj data =\n",
       "[[ 0.          0.          0.          0.          0.          1.\n",
       "   0.          0.        ]\n",
       " [ 0.85773088  0.          0.51409896  0.          0.          0.\n",
       "   0.          0.        ]\n",
       " [ 0.27479745 -0.81251992 -0.45847644  0.          0.          0.\n",
       "  -0.23258782  0.        ]\n",
       " [ 0.          0.          0.          0.          0.          0.\n",
       "   0.          1.        ]\n",
       " [-0.13739873  0.0985752   0.22923822  0.          0.          0.\n",
       "  -0.95856891  0.        ]\n",
       " [ 0.          0.          0.          0.          1.          0.\n",
       "   0.          0.        ]\n",
       " [ 0.          0.          0.          1.          0.          0.\n",
       "   0.          0.        ]\n",
       " [ 0.41219618  0.57453835 -0.68771466  0.          0.          0.\n",
       "  -0.16446442  0.        ]]"
      ]
     },
     "execution_count": 12,
     "metadata": {},
     "output_type": "execute_result"
    }
   ],
   "source": [
    "eigenvectmatr(H_C)"
   ]
  },
  {
   "cell_type": "markdown",
   "metadata": {},
   "source": [
    "### B: This doesn't match the bras of H "
   ]
  },
  {
   "cell_type": "code",
   "execution_count": 13,
   "metadata": {},
   "outputs": [
    {
     "name": "stdout",
     "output_type": "stream",
     "text": [
      "[-0.75 -0.75  0.25  0.25  0.25  0.25  0.25  0.25]\n"
     ]
    },
    {
     "data": {
      "text/latex": [
       "Quantum object: dims = [[2, 2, 2], [2, 2, 2]], shape = (8, 8), type = oper, isherm = True\\begin{equation*}\\left(\\begin{array}{*{11}c}0.250 & 0.0 & 0.0 & 0.0 & 0.0 & 0.0 & 0.0 & 0.0\\\\0.0 & -0.721 & 0.0 & 0.0 & 0.167 & 0.0 & 0.0 & 0.0\\\\0.0 & 0.0 & -0.250 & 0.0 & 0.0 & 0.0 & 0.0 & -0.500\\\\0.0 & 0.0 & 0.0 & 0.250 & 0.0 & 0.0 & 0.0 & 0.0\\\\0.0 & 0.167 & 0.0 & 0.0 & 0.221 & 0.0 & 0.0 & 0.0\\\\0.0 & 0.0 & 0.0 & 0.0 & 0.0 & 0.250 & 0.0 & 0.0\\\\0.0 & 0.0 & 0.0 & 0.0 & 0.0 & 0.0 & 0.250 & 0.0\\\\0.0 & 0.0 & -0.500 & 0.0 & 0.0 & 0.0 & 0.0 & -0.250\\\\\\end{array}\\right)\\end{equation*}"
      ],
      "text/plain": [
       "Quantum object: dims = [[2, 2, 2], [2, 2, 2]], shape = (8, 8), type = oper, isherm = True\n",
       "Qobj data =\n",
       "[[ 0.25        0.          0.          0.          0.          0.\n",
       "   0.          0.        ]\n",
       " [ 0.         -0.72140452  0.          0.          0.16666667  0.\n",
       "   0.          0.        ]\n",
       " [ 0.          0.         -0.25        0.          0.          0.\n",
       "   0.         -0.5       ]\n",
       " [ 0.          0.          0.          0.25        0.          0.\n",
       "   0.          0.        ]\n",
       " [ 0.          0.16666667  0.          0.          0.22140452  0.\n",
       "   0.          0.        ]\n",
       " [ 0.          0.          0.          0.          0.          0.25\n",
       "   0.          0.        ]\n",
       " [ 0.          0.          0.          0.          0.          0.\n",
       "   0.25        0.        ]\n",
       " [ 0.          0.         -0.5         0.          0.          0.\n",
       "   0.         -0.25      ]]"
      ]
     },
     "execution_count": 13,
     "metadata": {},
     "output_type": "execute_result"
    }
   ],
   "source": [
    "H_B=H.transform(T_B)\n",
    "print(H_B.eigenenergies())\n",
    "H_B"
   ]
  },
  {
   "cell_type": "code",
   "execution_count": 14,
   "metadata": {},
   "outputs": [
    {
     "data": {
      "text/latex": [
       "Quantum object: dims = [[8], [8]], shape = (8, 8), type = oper, isherm = False\\begin{equation*}\\left(\\begin{array}{*{11}c}0.0 & 0.0 & 1.0 & 0.0 & 0.0 & 0.0 & 0.0 & 0.0\\\\0.986 & 0.0 & 0.0 & 0.0 & 0.0 & 0.0 & 0.0 & -0.169\\\\0.0 & -0.707 & 0.0 & 0.0 & 0.0 & 0.707 & 0.0 & 0.0\\\\0.0 & 0.0 & 0.0 & 0.0 & 0.0 & 0.0 & 1.0 & 0.0\\\\-0.169 & 0.0 & 0.0 & 0.0 & 0.0 & 0.0 & 0.0 & -0.986\\\\0.0 & 0.0 & 0.0 & 0.0 & -1.0 & 0.0 & 0.0 & 0.0\\\\0.0 & 0.0 & 0.0 & 1.0 & 0.0 & 0.0 & 0.0 & 0.0\\\\0.0 & -0.707 & 0.0 & 0.0 & 0.0 & -0.707 & 0.0 & 0.0\\\\\\end{array}\\right)\\end{equation*}"
      ],
      "text/plain": [
       "Quantum object: dims = [[8], [8]], shape = (8, 8), type = oper, isherm = False\n",
       "Qobj data =\n",
       "[[ 0.          0.          1.          0.          0.          0.\n",
       "   0.          0.        ]\n",
       " [ 0.98559856  0.          0.          0.          0.          0.\n",
       "   0.         -0.16910198]\n",
       " [ 0.         -0.70710678  0.          0.          0.          0.70710678\n",
       "   0.          0.        ]\n",
       " [ 0.          0.          0.          0.          0.          0.\n",
       "   1.          0.        ]\n",
       " [-0.16910198  0.          0.          0.          0.          0.\n",
       "   0.         -0.98559856]\n",
       " [ 0.          0.          0.          0.         -1.          0.\n",
       "   0.          0.        ]\n",
       " [ 0.          0.          0.          1.          0.          0.\n",
       "   0.          0.        ]\n",
       " [ 0.         -0.70710678  0.          0.          0.         -0.70710678\n",
       "   0.          0.        ]]"
      ]
     },
     "execution_count": 14,
     "metadata": {},
     "output_type": "execute_result"
    }
   ],
   "source": [
    "eigenvectmatr(H_B)"
   ]
  },
  {
   "cell_type": "markdown",
   "metadata": {},
   "source": [
    "-----\n",
    "\n",
    "## Eigenstates:\n",
    "\n",
    "<span style=\"color:red\">TO DO:</span> Check if correct!\n",
    "\n",
    "$\\begin{array} {|r|r|}\n",
    "\\hline Energy & Uncoupled \\, repr. & Partly \\, coupled \\, repr. & Coupled \\, repr. \\\\ \n",
    "\\hline E_1 =-\\frac{3}{4} & \\frac{1}{\\sqrt{2}}\\vert\\alpha\\beta\\alpha\\rangle-\\frac{1}{\\sqrt{2}}\\vert\\alpha\\alpha\\beta\\rangle & +\\frac{1}{2}\\vert T_0\\beta\\rangle-\\frac{1}{2}\\vert S_0\\beta\\rangle-\\frac{1}{\\sqrt{2}}\\vert T_-\\alpha\\rangle & 0.86 \\vert\\frac{3}{2},+\\frac{1}{2},1\\rangle +0.28\\vert\\frac{3}{2},-\\frac{1}{2},1\\rangle -0.14 \\vert\\frac{1}{2},+\\frac{1}{2},1\\rangle +0.41 \\vert\\frac{1}{2},-\\frac{1}{2},0\\rangle \\\\ \n",
    "\\hline E_2 =-\\frac{3}{4} & \\frac{1}{\\sqrt{2}}\\vert\\beta\\beta\\alpha\\rangle-\\frac{1}{\\sqrt{2}}\\vert\\beta\\alpha\\beta\\rangle & -\\frac{1}{2}\\vert T_0\\alpha\\rangle-\\frac{1}{2}\\vert S_0\\alpha\\rangle+\\frac{1}{\\sqrt{2}}\\vert T_+\\beta\\rangle & -0.81\\vert\\frac{3}{2},-\\frac{1}{2},1\\rangle +0.10 \\vert\\frac{1}{2},+\\frac{1}{2},1\\rangle +0.58 \\vert\\frac{1}{2},-\\frac{1}{2},0\\rangle \\\\ \n",
    "\\hline E_3 =+\\frac{1}{4} & -\\frac{1}{\\sqrt{2}}\\vert\\alpha\\beta\\alpha\\rangle-\\frac{1}{\\sqrt{2}}\\vert\\alpha\\alpha\\beta\\rangle & \\frac{\\sqrt{3}}{2}\\vert T_0\\alpha\\rangle-\\frac{\\sqrt{3}}{6}\\vert S_0\\alpha\\rangle+\\frac{1}{\\sqrt{6}}\\vert T_+\\beta\\rangle & 0.52 \\vert\\frac{3}{2},+\\frac{1}{2},1\\rangle -0.46\\vert\\frac{3}{2},-\\frac{1}{2},1\\rangle -+0.22 \\vert\\frac{1}{2},+\\frac{1}{2},1\\rangle -0.69 \\vert\\frac{1}{2},-\\frac{1}{2},0\\rangle \\\\ \n",
    "\\hline E_4 =+\\frac{1}{4} & -\\frac{1}{\\sqrt{2}}\\vert\\beta\\beta\\alpha\\rangle-\\frac{1}{\\sqrt{2}}\\vert\\beta\\alpha\\beta\\rangle &  -\\frac{1}{\\sqrt{2}}\\vert T_-\\alpha\\rangle-\\frac{1}{2}\\vert T_0\\beta\\rangle+\\frac{1}{2}\\vert S_0\\beta\\rangle &  -0.23\\vert\\frac{3}{2},-\\frac{1}{2},1\\rangle -0.96 \\vert\\frac{1}{2},+\\frac{1}{2},1\\rangle -0.16 \\vert\\frac{1}{2},-\\frac{1}{2},0\\rangle\\\\ \n",
    "\\hline E_5 =+\\frac{1}{4} & \\vert\\beta\\alpha\\alpha\\rangle & \\frac{1}{\\sqrt{2}}\\vert T_0\\beta\\rangle+\\frac{1}{\\sqrt{2}}\\vert S_0\\beta\\rangle &  \\vert\\frac{1}{2},+\\frac{1}{2},0\\rangle\\\\ \n",
    "\\hline E_6 =+\\frac{1}{4} & \\vert\\alpha\\beta\\beta\\rangle & -\\frac{2}{\\sqrt{6}}\\vert S_0\\alpha\\rangle-\\frac{1}{\\sqrt{3}}\\vert T_+\\beta\\rangle& \\vert\\frac{1}{2},-\\frac{1}{2},1\\rangle\\\\ \n",
    "\\hline E_7 =+\\frac{1}{4} &\\vert\\alpha\\alpha\\alpha\\rangle & \\vert T_+\\alpha\\rangle &  \\vert\\frac{3}{2},+\\frac{3}{2},1\\rangle \\\\ \n",
    "\\hline E_8 =+\\frac{1}{4} & \\vert\\beta\\beta\\beta\\rangle & \\vert T_-\\beta\\rangle & \\vert\\frac{3}{2},-\\frac{3}{2},1\\rangle \\\\ \n",
    "\\hline  \\end{array}$"
   ]
  },
  {
   "cell_type": "code",
   "execution_count": null,
   "metadata": {},
   "outputs": [],
   "source": []
  }
 ],
 "metadata": {
  "kernelspec": {
   "display_name": "Python 3",
   "language": "python",
   "name": "python3"
  },
  "language_info": {
   "codemirror_mode": {
    "name": "ipython",
    "version": 3
   },
   "file_extension": ".py",
   "mimetype": "text/x-python",
   "name": "python",
   "nbconvert_exporter": "python",
   "pygments_lexer": "ipython3",
   "version": "3.8.2"
  }
 },
 "nbformat": 4,
 "nbformat_minor": 4
}
